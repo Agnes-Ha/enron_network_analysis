{
 "cells": [
  {
   "cell_type": "markdown",
   "metadata": {},
   "source": [
    "# To Does:\n",
    "\n",
    "- Find out how to break down multiple recipients in one cell into multiple rows while keeping the sender \n",
    "- Find out how to extract email body\n",
    "- Find out how to create a dataframe or dictionary with sender/ recipient information (how many emails has each employee send to and received from all other employees)"
   ]
  },
  {
   "cell_type": "markdown",
   "metadata": {},
   "source": [
    "## Data source:\n",
    "\n",
    "Kaggle, The Enron Email Dataset: https://www.kaggle.com/wcukierski/enron-email-dataset\n",
    "based on the May 7, 2015 Version of dataset, as published at https://www.cs.cmu.edu/~./enron/"
   ]
  },
  {
   "cell_type": "code",
   "execution_count": 1,
   "metadata": {},
   "outputs": [],
   "source": [
    "# libraries for pre-processing\n",
    "import pandas as pd\n",
    "import numpy as np\n",
    "import re\n",
    "# libraries for network analysis\n",
    "import networkx as nx\n",
    "import matplotlib.pyplot as plt\n",
    "import plotly.graph_objects as go"
   ]
  },
  {
   "cell_type": "code",
   "execution_count": 2,
   "metadata": {},
   "outputs": [],
   "source": [
    "df = pd.read_csv('../data/emails.csv')"
   ]
  },
  {
   "cell_type": "code",
   "execution_count": 3,
   "metadata": {},
   "outputs": [
    {
     "name": "stdout",
     "output_type": "stream",
     "text": [
      "<class 'pandas.core.frame.DataFrame'>\n",
      "RangeIndex: 517401 entries, 0 to 517400\n",
      "Data columns (total 2 columns):\n",
      " #   Column   Non-Null Count   Dtype \n",
      "---  ------   --------------   ----- \n",
      " 0   file     517401 non-null  object\n",
      " 1   message  517401 non-null  object\n",
      "dtypes: object(2)\n",
      "memory usage: 7.9+ MB\n"
     ]
    }
   ],
   "source": [
    "df.info()"
   ]
  },
  {
   "cell_type": "code",
   "execution_count": 4,
   "metadata": {},
   "outputs": [
    {
     "data": {
      "text/html": [
       "<div>\n",
       "<style scoped>\n",
       "    .dataframe tbody tr th:only-of-type {\n",
       "        vertical-align: middle;\n",
       "    }\n",
       "\n",
       "    .dataframe tbody tr th {\n",
       "        vertical-align: top;\n",
       "    }\n",
       "\n",
       "    .dataframe thead th {\n",
       "        text-align: right;\n",
       "    }\n",
       "</style>\n",
       "<table border=\"1\" class=\"dataframe\">\n",
       "  <thead>\n",
       "    <tr style=\"text-align: right;\">\n",
       "      <th></th>\n",
       "      <th>file</th>\n",
       "      <th>message</th>\n",
       "    </tr>\n",
       "  </thead>\n",
       "  <tbody>\n",
       "    <tr>\n",
       "      <th>0</th>\n",
       "      <td>allen-p/_sent_mail/1.</td>\n",
       "      <td>Message-ID: &lt;18782981.1075855378110.JavaMail.e...</td>\n",
       "    </tr>\n",
       "    <tr>\n",
       "      <th>1</th>\n",
       "      <td>allen-p/_sent_mail/10.</td>\n",
       "      <td>Message-ID: &lt;15464986.1075855378456.JavaMail.e...</td>\n",
       "    </tr>\n",
       "    <tr>\n",
       "      <th>2</th>\n",
       "      <td>allen-p/_sent_mail/100.</td>\n",
       "      <td>Message-ID: &lt;24216240.1075855687451.JavaMail.e...</td>\n",
       "    </tr>\n",
       "    <tr>\n",
       "      <th>3</th>\n",
       "      <td>allen-p/_sent_mail/1000.</td>\n",
       "      <td>Message-ID: &lt;13505866.1075863688222.JavaMail.e...</td>\n",
       "    </tr>\n",
       "    <tr>\n",
       "      <th>4</th>\n",
       "      <td>allen-p/_sent_mail/1001.</td>\n",
       "      <td>Message-ID: &lt;30922949.1075863688243.JavaMail.e...</td>\n",
       "    </tr>\n",
       "  </tbody>\n",
       "</table>\n",
       "</div>"
      ],
      "text/plain": [
       "                       file                                            message\n",
       "0     allen-p/_sent_mail/1.  Message-ID: <18782981.1075855378110.JavaMail.e...\n",
       "1    allen-p/_sent_mail/10.  Message-ID: <15464986.1075855378456.JavaMail.e...\n",
       "2   allen-p/_sent_mail/100.  Message-ID: <24216240.1075855687451.JavaMail.e...\n",
       "3  allen-p/_sent_mail/1000.  Message-ID: <13505866.1075863688222.JavaMail.e...\n",
       "4  allen-p/_sent_mail/1001.  Message-ID: <30922949.1075863688243.JavaMail.e..."
      ]
     },
     "execution_count": 4,
     "metadata": {},
     "output_type": "execute_result"
    }
   ],
   "source": [
    "df.head()"
   ]
  },
  {
   "cell_type": "code",
   "execution_count": 5,
   "metadata": {},
   "outputs": [
    {
     "data": {
      "text/plain": [
       "\"Message-ID: <18782981.1075855378110.JavaMail.evans@thyme>\\nDate: Mon, 14 May 2001 16:39:00 -0700 (PDT)\\nFrom: phillip.allen@enron.com\\nTo: tim.belden@enron.com\\nSubject: \\nMime-Version: 1.0\\nContent-Type: text/plain; charset=us-ascii\\nContent-Transfer-Encoding: 7bit\\nX-From: Phillip K Allen\\nX-To: Tim Belden <Tim Belden/Enron@EnronXGate>\\nX-cc: \\nX-bcc: \\nX-Folder: \\\\Phillip_Allen_Jan2002_1\\\\Allen, Phillip K.\\\\'Sent Mail\\nX-Origin: Allen-P\\nX-FileName: pallen (Non-Privileged).pst\\n\\nHere is our forecast\\n\\n \""
      ]
     },
     "execution_count": 5,
     "metadata": {},
     "output_type": "execute_result"
    }
   ],
   "source": [
    "df.message[0]"
   ]
  },
  {
   "cell_type": "code",
   "execution_count": 6,
   "metadata": {},
   "outputs": [
    {
     "name": "stdout",
     "output_type": "stream",
     "text": [
      "Message-ID: <18782981.1075855378110.JavaMail.evans@thyme>\n",
      "Date: Mon, 14 May 2001 16:39:00 -0700 (PDT)\n",
      "From: phillip.allen@enron.com\n",
      "To: tim.belden@enron.com\n",
      "Subject: \n",
      "Mime-Version: 1.0\n",
      "Content-Type: text/plain; charset=us-ascii\n",
      "Content-Transfer-Encoding: 7bit\n",
      "X-From: Phillip K Allen\n",
      "X-To: Tim Belden <Tim Belden/Enron@EnronXGate>\n",
      "X-cc: \n",
      "X-bcc: \n",
      "X-Folder: \\Phillip_Allen_Jan2002_1\\Allen, Phillip K.\\'Sent Mail\n",
      "X-Origin: Allen-P\n",
      "X-FileName: pallen (Non-Privileged).pst\n",
      "\n",
      "Here is our forecast\n",
      "\n",
      " \n"
     ]
    }
   ],
   "source": [
    "print(df.message[0])"
   ]
  },
  {
   "cell_type": "code",
   "execution_count": 7,
   "metadata": {
    "scrolled": true
   },
   "outputs": [
    {
     "data": {
      "text/plain": [
       "'allen-p/_sent_mail/1.'"
      ]
     },
     "execution_count": 7,
     "metadata": {},
     "output_type": "execute_result"
    }
   ],
   "source": [
    "df.file[0]"
   ]
  },
  {
   "cell_type": "code",
   "execution_count": 8,
   "metadata": {
    "scrolled": true
   },
   "outputs": [
    {
     "name": "stdout",
     "output_type": "stream",
     "text": [
      "Message-ID: <12445037.1075840220349.JavaMail.evans@thyme>\n",
      "Date: Thu, 2 Nov 2000 03:40:00 -0800 (PST)\n",
      "From: cscusack@email.msn.com\n",
      "To: kenneth.lay@enron.com\n",
      "Subject: Ken Derr\n",
      "Mime-Version: 1.0\n",
      "Content-Type: text/plain; charset=us-ascii\n",
      "Content-Transfer-Encoding: 7bit\n",
      "X-From: \"cscusack\" <cscusack@email.msn.com>\n",
      "X-To: <kenneth.lay@enron.com>\n",
      "X-cc: \n",
      "X-bcc: \n",
      "X-Folder: \\Kenneth_Lay_Dec2000\\Notes Folders\\All documents\n",
      "X-Origin: LAY-K\n",
      "X-FileName: klay.nsf\n",
      "\n",
      "Rosalee, just heard back from Mr. Derr's assistant.  Unfortunately, he is \n",
      "unable to attend. Please delete his name from the  letter/invitation. Thank \n",
      "you. Chris\n"
     ]
    }
   ],
   "source": [
    "print(df.message[268900])"
   ]
  },
  {
   "cell_type": "markdown",
   "metadata": {},
   "source": [
    "### Take a random sample for testing purposes in the pre-processing stage"
   ]
  },
  {
   "cell_type": "code",
   "execution_count": 50,
   "metadata": {},
   "outputs": [],
   "source": [
    "test = df.sample(n=200, random_state=0)"
   ]
  },
  {
   "cell_type": "markdown",
   "metadata": {},
   "source": [
    "## Define helper functions for pre-processing the data\n",
    "\n",
    "Note:\n",
    "Figure out a way to drop rows based on certain folder names in the file column.\n",
    "\n",
    "To drop:\n",
    "- calendar\n",
    "- schedule_crawler\n",
    "- funny\n",
    "\n",
    "Maybe to drop:\n",
    "- press_releases\n",
    "- contact\n",
    "- contacts\n",
    "- private* (including variations such as private_folders)\n",
    "- *personal* (including variations such as my_personal)\n",
    "- tasks\n",
    "- to_do"
   ]
  },
  {
   "cell_type": "code",
   "execution_count": 11,
   "metadata": {},
   "outputs": [],
   "source": [
    "def get_user(df):\n",
    "    \"\"\"\n",
    "    Input:\n",
    "        DataFrame\n",
    "    Function:\n",
    "        Extracts the user account in the column 'file' of the DataFrame and appends it to a list. Appends this \n",
    "        list as column 'user' to the dataframe and returns it.\n",
    "    Output:\n",
    "        DataFrame\n",
    "    \"\"\"\n",
    "    file_split = []\n",
    "    \n",
    "    for file in df['file']:\n",
    "        split = file.rsplit('/')\n",
    "        file_split.append(split[0])\n",
    "        \n",
    "    df['user'] = file_split\n",
    "        \n",
    "    return df"
   ]
  },
  {
   "cell_type": "code",
   "execution_count": 55,
   "metadata": {},
   "outputs": [],
   "source": [
    "# helper function to clean up string in column \"message\"\n",
    "def clean_text(message, match):\n",
    "    \"\"\"\n",
    "    Takes a string and the separater to be replaced, replaces linebrakes with empty quotation marks and splits \n",
    "    the string at those occurences. Returns a string.\n",
    "    \"\"\" \n",
    "    text = re.sub(r\"\\n\\t\", \"\", message)\n",
    "    return re.split(match, message)"
   ]
  },
  {
   "cell_type": "code",
   "execution_count": 13,
   "metadata": {},
   "outputs": [],
   "source": [
    "def get_date_time(df):\n",
    "    \"\"\"\n",
    "    Input:\n",
    "        DataFrame\n",
    "    Function:\n",
    "        Extracts the date and time from the column 'message_clean' of the DataFrame, stores the information in\n",
    "        seperate columns and returns the DataFrame.\n",
    "    Output:\n",
    "        DataFrame\n",
    "    \"\"\"\n",
    "    df['date'] = df['message_clean'].apply(lambda x: x[1])\n",
    "    df.loc[:, 'date'] = df.loc[:, 'date'].apply(lambda x: x[6:31])\n",
    "    df['date'] = pd.to_datetime(df['date'])\n",
    "    \n",
    "    return df"
   ]
  },
  {
   "cell_type": "code",
   "execution_count": 14,
   "metadata": {},
   "outputs": [],
   "source": [
    "# helper function to extract email addresses from string\n",
    "def extract_email_string(message, substring):\n",
    "    \"\"\"\n",
    "    Takes a large string (i.e. message) and a substring (i.e. indicator for sender or recipient) to find all\n",
    "    occurences of a defined regular expression and stores them in a list. If substring is not found in message,\n",
    "    then the list item remains empty. Returns a list.\n",
    "    \"\"\"\n",
    "    result = re.findall('[\\w\\.-]+@[\\w\\.-]+\\.\\w+', message)\n",
    "    if substring not in message:\n",
    "        result = \"\"\n",
    "    return result"
   ]
  },
  {
   "cell_type": "code",
   "execution_count": null,
   "metadata": {},
   "outputs": [],
   "source": [
    "def get_sender_recipients(df):\n",
    "    \"\"\"\n",
    "    Input:\n",
    "        DataFrame\n",
    "    Function:\n",
    "        Extracts the email addresses of sender, recipient, recipient (cc) and recipient (bcc) from the column \n",
    "        'message_clean' of the DataFrame, stores the information in seperate columns and returns the DataFrame.\n",
    "    Output:\n",
    "        DataFrame\n",
    "    \"\"\"\n",
    "    \n",
    "    df['sender'] = df['message_clean'].apply(lambda x : x[2])\n",
    "    df.loc[:, 'sender'] = df.loc[:,'sender'].apply(lambda x : x[6:])\n",
    "    \n",
    "    df['recipients'] = df['message_clean'].apply(lambda x : x[3])\n",
    "    df.loc[:, 'recipients'] = df.loc[:, 'recipients'].apply(lambda x: x[3:])\n",
    "    \n",
    "    test['recipients_cc'] = test['message_clean'].apply(lambda x : x[5])\n",
    "    \n",
    "    test['recipients_bcc'] = test['message_clean'].apply(lambda x : x[9])\n",
    "    \n",
    "    return df"
   ]
  },
  {
   "cell_type": "code",
   "execution_count": 22,
   "metadata": {},
   "outputs": [],
   "source": [
    "test['sender'] = test['message_clean'].apply(lambda x : x[2])\n",
    "test.loc[:, 'sender'] = test.loc[:,'sender'].apply(lambda x : x[6:])"
   ]
  },
  {
   "cell_type": "code",
   "execution_count": 23,
   "metadata": {},
   "outputs": [],
   "source": [
    "test['recipient'] = test['message_clean'].apply(lambda x : x[3])\n",
    "test.loc[:, 'recipient'] = test.loc[:, 'recipient'].apply(lambda x: x[3:])"
   ]
  },
  {
   "cell_type": "code",
   "execution_count": 24,
   "metadata": {},
   "outputs": [],
   "source": [
    "test['recipient_cc'] = test['message_clean'].apply(lambda x : x[5])"
   ]
  },
  {
   "cell_type": "code",
   "execution_count": 25,
   "metadata": {},
   "outputs": [],
   "source": [
    "test['recipient_bcc'] = test['message_clean'].apply(lambda x : x[9])"
   ]
  },
  {
   "cell_type": "code",
   "execution_count": 42,
   "metadata": {},
   "outputs": [],
   "source": [
    "test['test_message'] = test['message_clean'].apply(lambda x : x[3:])"
   ]
  },
  {
   "cell_type": "code",
   "execution_count": 40,
   "metadata": {},
   "outputs": [],
   "source": [
    "mails = test['message_clean'].str.extractall(r'(\\w+@\\w+\\.\\w+)')"
   ]
  },
  {
   "cell_type": "code",
   "execution_count": null,
   "metadata": {},
   "outputs": [],
   "source": []
  },
  {
   "cell_type": "code",
   "execution_count": null,
   "metadata": {},
   "outputs": [],
   "source": []
  },
  {
   "cell_type": "code",
   "execution_count": 46,
   "metadata": {},
   "outputs": [],
   "source": [
    "test['test_message'] = test['test_message'].str.replace(r'\\t','')"
   ]
  },
  {
   "cell_type": "code",
   "execution_count": 57,
   "metadata": {},
   "outputs": [
    {
     "data": {
      "text/html": [
       "<div>\n",
       "<style scoped>\n",
       "    .dataframe tbody tr th:only-of-type {\n",
       "        vertical-align: middle;\n",
       "    }\n",
       "\n",
       "    .dataframe tbody tr th {\n",
       "        vertical-align: top;\n",
       "    }\n",
       "\n",
       "    .dataframe thead th {\n",
       "        text-align: right;\n",
       "    }\n",
       "</style>\n",
       "<table border=\"1\" class=\"dataframe\">\n",
       "  <thead>\n",
       "    <tr style=\"text-align: right;\">\n",
       "      <th></th>\n",
       "      <th>file</th>\n",
       "      <th>message</th>\n",
       "      <th>message_clean</th>\n",
       "    </tr>\n",
       "  </thead>\n",
       "  <tbody>\n",
       "    <tr>\n",
       "      <th>510816</th>\n",
       "      <td>williams-w3/schedule_crawler/1387.</td>\n",
       "      <td>Message-ID: &lt;20978984.1075839990072.JavaMail.e...</td>\n",
       "      <td>[Message-ID: &lt;20978984.1075839990072.JavaMail....</td>\n",
       "    </tr>\n",
       "    <tr>\n",
       "      <th>346872</th>\n",
       "      <td>nemec-g/all_documents/5431.</td>\n",
       "      <td>Message-ID: &lt;8987828.1075842774735.JavaMail.ev...</td>\n",
       "      <td>[Message-ID: &lt;8987828.1075842774735.JavaMail.e...</td>\n",
       "    </tr>\n",
       "    <tr>\n",
       "      <th>158351</th>\n",
       "      <td>hain-m/all_documents/842.</td>\n",
       "      <td>Message-ID: &lt;30686869.1075860369073.JavaMail.e...</td>\n",
       "      <td>[Message-ID: &lt;30686869.1075860369073.JavaMail....</td>\n",
       "    </tr>\n",
       "    <tr>\n",
       "      <th>351661</th>\n",
       "      <td>nemec-g/notes_inbox/2544.</td>\n",
       "      <td>Message-ID: &lt;4155293.1075842841039.JavaMail.ev...</td>\n",
       "      <td>[Message-ID: &lt;4155293.1075842841039.JavaMail.e...</td>\n",
       "    </tr>\n",
       "    <tr>\n",
       "      <th>20325</th>\n",
       "      <td>baughman-d/power/legal_agreements/96.</td>\n",
       "      <td>Message-ID: &lt;12670521.1075862605089.JavaMail.e...</td>\n",
       "      <td>[Message-ID: &lt;12670521.1075862605089.JavaMail....</td>\n",
       "    </tr>\n",
       "    <tr>\n",
       "      <th>...</th>\n",
       "      <td>...</td>\n",
       "      <td>...</td>\n",
       "      <td>...</td>\n",
       "    </tr>\n",
       "    <tr>\n",
       "      <th>245520</th>\n",
       "      <td>kean-s/discussion_threads/1931.</td>\n",
       "      <td>Message-ID: &lt;22943543.1075848122704.JavaMail.e...</td>\n",
       "      <td>[Message-ID: &lt;22943543.1075848122704.JavaMail....</td>\n",
       "    </tr>\n",
       "    <tr>\n",
       "      <th>487224</th>\n",
       "      <td>tholt-j/discussion_threads/208.</td>\n",
       "      <td>Message-ID: &lt;29143432.1075857489662.JavaMail.e...</td>\n",
       "      <td>[Message-ID: &lt;29143432.1075857489662.JavaMail....</td>\n",
       "    </tr>\n",
       "    <tr>\n",
       "      <th>411055</th>\n",
       "      <td>semperger-c/deleted_items/143.</td>\n",
       "      <td>Message-ID: &lt;8864897.1075841547320.JavaMail.ev...</td>\n",
       "      <td>[Message-ID: &lt;8864897.1075841547320.JavaMail.e...</td>\n",
       "    </tr>\n",
       "    <tr>\n",
       "      <th>17350</th>\n",
       "      <td>bass-e/sent/623.</td>\n",
       "      <td>Message-ID: &lt;22191133.1075854699828.JavaMail.e...</td>\n",
       "      <td>[Message-ID: &lt;22191133.1075854699828.JavaMail....</td>\n",
       "    </tr>\n",
       "    <tr>\n",
       "      <th>109074</th>\n",
       "      <td>farmer-d/logistics/1420.</td>\n",
       "      <td>Message-ID: &lt;3076094.1075854138590.JavaMail.ev...</td>\n",
       "      <td>[Message-ID: &lt;3076094.1075854138590.JavaMail.e...</td>\n",
       "    </tr>\n",
       "  </tbody>\n",
       "</table>\n",
       "<p>200 rows × 3 columns</p>\n",
       "</div>"
      ],
      "text/plain": [
       "                                         file  \\\n",
       "510816     williams-w3/schedule_crawler/1387.   \n",
       "346872            nemec-g/all_documents/5431.   \n",
       "158351              hain-m/all_documents/842.   \n",
       "351661              nemec-g/notes_inbox/2544.   \n",
       "20325   baughman-d/power/legal_agreements/96.   \n",
       "...                                       ...   \n",
       "245520        kean-s/discussion_threads/1931.   \n",
       "487224        tholt-j/discussion_threads/208.   \n",
       "411055         semperger-c/deleted_items/143.   \n",
       "17350                        bass-e/sent/623.   \n",
       "109074               farmer-d/logistics/1420.   \n",
       "\n",
       "                                                  message  \\\n",
       "510816  Message-ID: <20978984.1075839990072.JavaMail.e...   \n",
       "346872  Message-ID: <8987828.1075842774735.JavaMail.ev...   \n",
       "158351  Message-ID: <30686869.1075860369073.JavaMail.e...   \n",
       "351661  Message-ID: <4155293.1075842841039.JavaMail.ev...   \n",
       "20325   Message-ID: <12670521.1075862605089.JavaMail.e...   \n",
       "...                                                   ...   \n",
       "245520  Message-ID: <22943543.1075848122704.JavaMail.e...   \n",
       "487224  Message-ID: <29143432.1075857489662.JavaMail.e...   \n",
       "411055  Message-ID: <8864897.1075841547320.JavaMail.ev...   \n",
       "17350   Message-ID: <22191133.1075854699828.JavaMail.e...   \n",
       "109074  Message-ID: <3076094.1075854138590.JavaMail.ev...   \n",
       "\n",
       "                                            message_clean  \n",
       "510816  [Message-ID: <20978984.1075839990072.JavaMail....  \n",
       "346872  [Message-ID: <8987828.1075842774735.JavaMail.e...  \n",
       "158351  [Message-ID: <30686869.1075860369073.JavaMail....  \n",
       "351661  [Message-ID: <4155293.1075842841039.JavaMail.e...  \n",
       "20325   [Message-ID: <12670521.1075862605089.JavaMail....  \n",
       "...                                                   ...  \n",
       "245520  [Message-ID: <22943543.1075848122704.JavaMail....  \n",
       "487224  [Message-ID: <29143432.1075857489662.JavaMail....  \n",
       "411055  [Message-ID: <8864897.1075841547320.JavaMail.e...  \n",
       "17350   [Message-ID: <22191133.1075854699828.JavaMail....  \n",
       "109074  [Message-ID: <3076094.1075854138590.JavaMail.e...  \n",
       "\n",
       "[200 rows x 3 columns]"
      ]
     },
     "execution_count": 57,
     "metadata": {},
     "output_type": "execute_result"
    }
   ],
   "source": [
    "test"
   ]
  },
  {
   "cell_type": "code",
   "execution_count": 74,
   "metadata": {},
   "outputs": [],
   "source": [
    "df = test['message'].str.extractall(r'To:([\\w\\.-]+@[\\w\\.-]+\\.\\w+)')"
   ]
  },
  {
   "cell_type": "code",
   "execution_count": 75,
   "metadata": {},
   "outputs": [
    {
     "data": {
      "text/html": [
       "<div>\n",
       "<style scoped>\n",
       "    .dataframe tbody tr th:only-of-type {\n",
       "        vertical-align: middle;\n",
       "    }\n",
       "\n",
       "    .dataframe tbody tr th {\n",
       "        vertical-align: top;\n",
       "    }\n",
       "\n",
       "    .dataframe thead th {\n",
       "        text-align: right;\n",
       "    }\n",
       "</style>\n",
       "<table border=\"1\" class=\"dataframe\">\n",
       "  <thead>\n",
       "    <tr style=\"text-align: right;\">\n",
       "      <th></th>\n",
       "      <th></th>\n",
       "      <th>0</th>\n",
       "    </tr>\n",
       "    <tr>\n",
       "      <th></th>\n",
       "      <th>match</th>\n",
       "      <th></th>\n",
       "    </tr>\n",
       "  </thead>\n",
       "  <tbody>\n",
       "  </tbody>\n",
       "</table>\n",
       "</div>"
      ],
      "text/plain": [
       "Empty DataFrame\n",
       "Columns: [0]\n",
       "Index: []"
      ]
     },
     "execution_count": 75,
     "metadata": {},
     "output_type": "execute_result"
    }
   ],
   "source": [
    "df"
   ]
  },
  {
   "cell_type": "code",
   "execution_count": 71,
   "metadata": {
    "collapsed": true
   },
   "outputs": [
    {
     "data": {
      "text/plain": [
       "'Message-ID: <20978984.1075839990072.JavaMail.evans@thyme>\\nDate: Thu, 13 Dec 2001 06:37:39 -0800 (PST)\\nFrom: pete.davis@enron.com\\nTo: pete.davis@enron.com\\nSubject: Start Date: 12/13/01; HourAhead hour: 5;\\nCc: albert.meyers@enron.com, bill.williams@enron.com, craig.dean@enron.com, \\n\\tgeir.solberg@enron.com, john.anderson@enron.com, \\n\\tmark.guzman@enron.com, michael.mier@enron.com, pete.davis@enron.com, \\n\\tryan.slinger@enron.com\\nMime-Version: 1.0\\nContent-Type: text/plain; charset=us-ascii\\nContent-Transfer-Encoding: 7bit\\nBcc: albert.meyers@enron.com, bill.williams@enron.com, craig.dean@enron.com, \\n\\tgeir.solberg@enron.com, john.anderson@enron.com, \\n\\tmark.guzman@enron.com, michael.mier@enron.com, pete.davis@enron.com, \\n\\tryan.slinger@enron.com\\nX-From: Davis, Pete </O=ENRON/OU=NA/CN=RECIPIENTS/CN=PDAVIS1>\\nX-To: Davis, Pete </O=ENRON/OU=NA/CN=RECIPIENTS/CN=PDAVIS1>\\nX-cc: Meyers, Albert </O=ENRON/OU=NA/CN=RECIPIENTS/CN=BMEYERS>, Williams III, Bill </O=ENRON/OU=NA/CN=RECIPIENTS/CN=BWILLIA5>, Dean, Craig </O=ENRON/OU=NA/CN=RECIPIENTS/CN=CDEAN2>, Solberg, Geir </O=ENRON/OU=NA/CN=RECIPIENTS/CN=GSOLBER>, Anderson, John </O=ENRON/OU=NA/CN=RECIPIENTS/CN=JANDERS3>, Guzman, Mark </O=ENRON/OU=NA/CN=RECIPIENTS/CN=MGUZMAN3>, Mier, Michael </O=ENRON/OU=NA/CN=RECIPIENTS/CN=MMIER>, Davis, Pete </O=ENRON/OU=NA/CN=RECIPIENTS/CN=PDAVIS1>, Slinger, Ryan </O=ENRON/OU=NA/CN=RECIPIENTS/CN=RSLINGER>\\nX-bcc: \\nX-Folder: \\\\ExMerge - Williams III, Bill\\\\Schedule Crawler\\nX-Origin: WILLIAMS-W3\\nX-FileName: \\n\\n\\n\\nStart Date: 12/13/01; HourAhead hour: 5;  No ancillary schedules awarded.  No variances detected. \\n\\n    LOG MESSAGES:\\n\\nPARSING FILE -->> O:\\\\Portland\\\\WestDesk\\\\California Scheduling\\\\ISO Final Schedules\\\\2001121305.txt'"
      ]
     },
     "execution_count": 71,
     "metadata": {},
     "output_type": "execute_result"
    }
   ],
   "source": [
    "test['message'][510816]"
   ]
  },
  {
   "cell_type": "code",
   "execution_count": 202,
   "metadata": {},
   "outputs": [],
   "source": [
    "test.loc[:, 'recipient_cc'] = test.loc[:, 'recipient_cc'].apply(lambda x: extract_email_string(x, 'Cc:'))"
   ]
  },
  {
   "cell_type": "code",
   "execution_count": 208,
   "metadata": {},
   "outputs": [],
   "source": [
    "test.loc[:, 'recipient_bcc'] = test.loc[:, 'recipient_bcc'].apply(lambda x: extract_email_string(x, 'Bcc:'))"
   ]
  },
  {
   "cell_type": "code",
   "execution_count": null,
   "metadata": {},
   "outputs": [],
   "source": []
  },
  {
   "cell_type": "code",
   "execution_count": null,
   "metadata": {},
   "outputs": [],
   "source": []
  },
  {
   "cell_type": "code",
   "execution_count": null,
   "metadata": {},
   "outputs": [],
   "source": []
  },
  {
   "cell_type": "code",
   "execution_count": null,
   "metadata": {},
   "outputs": [],
   "source": []
  },
  {
   "cell_type": "code",
   "execution_count": null,
   "metadata": {},
   "outputs": [],
   "source": []
  },
  {
   "cell_type": "markdown",
   "metadata": {},
   "source": [
    "### Test helper functions for functionality"
   ]
  },
  {
   "cell_type": "code",
   "execution_count": 56,
   "metadata": {},
   "outputs": [],
   "source": [
    "# test clean_text function, store results in new column \"message_tidy\"\n",
    "test['message_clean'] = test.message.apply(lambda x: clean_text(x, '\\n\\t'))"
   ]
  },
  {
   "cell_type": "code",
   "execution_count": 122,
   "metadata": {
    "scrolled": true
   },
   "outputs": [],
   "source": [
    "# test get_email_account function\n",
    "test = get_user(test)"
   ]
  },
  {
   "cell_type": "code",
   "execution_count": 123,
   "metadata": {},
   "outputs": [
    {
     "data": {
      "text/html": [
       "<div>\n",
       "<style scoped>\n",
       "    .dataframe tbody tr th:only-of-type {\n",
       "        vertical-align: middle;\n",
       "    }\n",
       "\n",
       "    .dataframe tbody tr th {\n",
       "        vertical-align: top;\n",
       "    }\n",
       "\n",
       "    .dataframe thead th {\n",
       "        text-align: right;\n",
       "    }\n",
       "</style>\n",
       "<table border=\"1\" class=\"dataframe\">\n",
       "  <thead>\n",
       "    <tr style=\"text-align: right;\">\n",
       "      <th></th>\n",
       "      <th>file</th>\n",
       "      <th>message</th>\n",
       "      <th>message_clean</th>\n",
       "      <th>user</th>\n",
       "      <th>date</th>\n",
       "    </tr>\n",
       "  </thead>\n",
       "  <tbody>\n",
       "    <tr>\n",
       "      <th>510816</th>\n",
       "      <td>williams-w3/schedule_crawler/1387.</td>\n",
       "      <td>Message-ID: &lt;20978984.1075839990072.JavaMail.e...</td>\n",
       "      <td>[Message-ID: &lt;20978984.1075839990072.JavaMail....</td>\n",
       "      <td>williams-w3</td>\n",
       "      <td>2001-12-13 06:37:39</td>\n",
       "    </tr>\n",
       "    <tr>\n",
       "      <th>346872</th>\n",
       "      <td>nemec-g/all_documents/5431.</td>\n",
       "      <td>Message-ID: &lt;8987828.1075842774735.JavaMail.ev...</td>\n",
       "      <td>[Message-ID: &lt;8987828.1075842774735.JavaMail.e...</td>\n",
       "      <td>nemec-g</td>\n",
       "      <td>2001-03-20 00:12:00</td>\n",
       "    </tr>\n",
       "    <tr>\n",
       "      <th>158351</th>\n",
       "      <td>hain-m/all_documents/842.</td>\n",
       "      <td>Message-ID: &lt;30686869.1075860369073.JavaMail.e...</td>\n",
       "      <td>[Message-ID: &lt;30686869.1075860369073.JavaMail....</td>\n",
       "      <td>hain-m</td>\n",
       "      <td>2001-03-15 01:30:00</td>\n",
       "    </tr>\n",
       "    <tr>\n",
       "      <th>351661</th>\n",
       "      <td>nemec-g/notes_inbox/2544.</td>\n",
       "      <td>Message-ID: &lt;4155293.1075842841039.JavaMail.ev...</td>\n",
       "      <td>[Message-ID: &lt;4155293.1075842841039.JavaMail.e...</td>\n",
       "      <td>nemec-g</td>\n",
       "      <td>2001-01-03 10:00:00</td>\n",
       "    </tr>\n",
       "    <tr>\n",
       "      <th>20325</th>\n",
       "      <td>baughman-d/power/legal_agreements/96.</td>\n",
       "      <td>Message-ID: &lt;12670521.1075862605089.JavaMail.e...</td>\n",
       "      <td>[Message-ID: &lt;12670521.1075862605089.JavaMail....</td>\n",
       "      <td>baughman-d</td>\n",
       "      <td>2001-09-26 07:59:09</td>\n",
       "    </tr>\n",
       "    <tr>\n",
       "      <th>...</th>\n",
       "      <td>...</td>\n",
       "      <td>...</td>\n",
       "      <td>...</td>\n",
       "      <td>...</td>\n",
       "      <td>...</td>\n",
       "    </tr>\n",
       "    <tr>\n",
       "      <th>245520</th>\n",
       "      <td>kean-s/discussion_threads/1931.</td>\n",
       "      <td>Message-ID: &lt;22943543.1075848122704.JavaMail.e...</td>\n",
       "      <td>[Message-ID: &lt;22943543.1075848122704.JavaMail....</td>\n",
       "      <td>kean-s</td>\n",
       "      <td>2001-01-01 23:15:00</td>\n",
       "    </tr>\n",
       "    <tr>\n",
       "      <th>487224</th>\n",
       "      <td>tholt-j/discussion_threads/208.</td>\n",
       "      <td>Message-ID: &lt;29143432.1075857489662.JavaMail.e...</td>\n",
       "      <td>[Message-ID: &lt;29143432.1075857489662.JavaMail....</td>\n",
       "      <td>tholt-j</td>\n",
       "      <td>2001-01-10 04:30:00</td>\n",
       "    </tr>\n",
       "    <tr>\n",
       "      <th>411055</th>\n",
       "      <td>semperger-c/deleted_items/143.</td>\n",
       "      <td>Message-ID: &lt;8864897.1075841547320.JavaMail.ev...</td>\n",
       "      <td>[Message-ID: &lt;8864897.1075841547320.JavaMail.e...</td>\n",
       "      <td>semperger-c</td>\n",
       "      <td>2002-01-25 14:00:56</td>\n",
       "    </tr>\n",
       "    <tr>\n",
       "      <th>17350</th>\n",
       "      <td>bass-e/sent/623.</td>\n",
       "      <td>Message-ID: &lt;22191133.1075854699828.JavaMail.e...</td>\n",
       "      <td>[Message-ID: &lt;22191133.1075854699828.JavaMail....</td>\n",
       "      <td>bass-e</td>\n",
       "      <td>2000-06-30 06:04:00</td>\n",
       "    </tr>\n",
       "    <tr>\n",
       "      <th>109074</th>\n",
       "      <td>farmer-d/logistics/1420.</td>\n",
       "      <td>Message-ID: &lt;3076094.1075854138590.JavaMail.ev...</td>\n",
       "      <td>[Message-ID: &lt;3076094.1075854138590.JavaMail.e...</td>\n",
       "      <td>farmer-d</td>\n",
       "      <td>2000-09-22 07:14:00</td>\n",
       "    </tr>\n",
       "  </tbody>\n",
       "</table>\n",
       "<p>200 rows × 5 columns</p>\n",
       "</div>"
      ],
      "text/plain": [
       "                                         file  \\\n",
       "510816     williams-w3/schedule_crawler/1387.   \n",
       "346872            nemec-g/all_documents/5431.   \n",
       "158351              hain-m/all_documents/842.   \n",
       "351661              nemec-g/notes_inbox/2544.   \n",
       "20325   baughman-d/power/legal_agreements/96.   \n",
       "...                                       ...   \n",
       "245520        kean-s/discussion_threads/1931.   \n",
       "487224        tholt-j/discussion_threads/208.   \n",
       "411055         semperger-c/deleted_items/143.   \n",
       "17350                        bass-e/sent/623.   \n",
       "109074               farmer-d/logistics/1420.   \n",
       "\n",
       "                                                  message  \\\n",
       "510816  Message-ID: <20978984.1075839990072.JavaMail.e...   \n",
       "346872  Message-ID: <8987828.1075842774735.JavaMail.ev...   \n",
       "158351  Message-ID: <30686869.1075860369073.JavaMail.e...   \n",
       "351661  Message-ID: <4155293.1075842841039.JavaMail.ev...   \n",
       "20325   Message-ID: <12670521.1075862605089.JavaMail.e...   \n",
       "...                                                   ...   \n",
       "245520  Message-ID: <22943543.1075848122704.JavaMail.e...   \n",
       "487224  Message-ID: <29143432.1075857489662.JavaMail.e...   \n",
       "411055  Message-ID: <8864897.1075841547320.JavaMail.ev...   \n",
       "17350   Message-ID: <22191133.1075854699828.JavaMail.e...   \n",
       "109074  Message-ID: <3076094.1075854138590.JavaMail.ev...   \n",
       "\n",
       "                                            message_clean         user  \\\n",
       "510816  [Message-ID: <20978984.1075839990072.JavaMail....  williams-w3   \n",
       "346872  [Message-ID: <8987828.1075842774735.JavaMail.e...      nemec-g   \n",
       "158351  [Message-ID: <30686869.1075860369073.JavaMail....       hain-m   \n",
       "351661  [Message-ID: <4155293.1075842841039.JavaMail.e...      nemec-g   \n",
       "20325   [Message-ID: <12670521.1075862605089.JavaMail....   baughman-d   \n",
       "...                                                   ...          ...   \n",
       "245520  [Message-ID: <22943543.1075848122704.JavaMail....       kean-s   \n",
       "487224  [Message-ID: <29143432.1075857489662.JavaMail....      tholt-j   \n",
       "411055  [Message-ID: <8864897.1075841547320.JavaMail.e...  semperger-c   \n",
       "17350   [Message-ID: <22191133.1075854699828.JavaMail....       bass-e   \n",
       "109074  [Message-ID: <3076094.1075854138590.JavaMail.e...     farmer-d   \n",
       "\n",
       "                      date  \n",
       "510816 2001-12-13 06:37:39  \n",
       "346872 2001-03-20 00:12:00  \n",
       "158351 2001-03-15 01:30:00  \n",
       "351661 2001-01-03 10:00:00  \n",
       "20325  2001-09-26 07:59:09  \n",
       "...                    ...  \n",
       "245520 2001-01-01 23:15:00  \n",
       "487224 2001-01-10 04:30:00  \n",
       "411055 2002-01-25 14:00:56  \n",
       "17350  2000-06-30 06:04:00  \n",
       "109074 2000-09-22 07:14:00  \n",
       "\n",
       "[200 rows x 5 columns]"
      ]
     },
     "execution_count": 123,
     "metadata": {},
     "output_type": "execute_result"
    }
   ],
   "source": [
    "# test get_date_time function\n",
    "test = get_date_time(test)\n",
    "test"
   ]
  },
  {
   "cell_type": "code",
   "execution_count": 196,
   "metadata": {
    "collapsed": true
   },
   "outputs": [
    {
     "data": {
      "text/plain": [
       "['Message-ID: <20978984.1075839990072.JavaMail.evans@thyme>',\n",
       " 'Date: Thu, 13 Dec 2001 06:37:39 -0800 (PST)',\n",
       " 'From: pete.davis@enron.com',\n",
       " 'To: pete.davis@enron.com',\n",
       " 'Subject: Start Date: 12/13/01; HourAhead hour: 5;',\n",
       " 'Cc: albert.meyers@enron.com, bill.williams@enron.com, craig.dean@enron.com, geir.solberg@enron.com, john.anderson@enron.com, mark.guzman@enron.com, michael.mier@enron.com, pete.davis@enron.com, ryan.slinger@enron.com',\n",
       " 'Mime-Version: 1.0',\n",
       " 'Content-Type: text/plain; charset=us-ascii',\n",
       " 'Content-Transfer-Encoding: 7bit',\n",
       " 'Bcc: albert.meyers@enron.com, bill.williams@enron.com, craig.dean@enron.com, geir.solberg@enron.com, john.anderson@enron.com, mark.guzman@enron.com, michael.mier@enron.com, pete.davis@enron.com, ryan.slinger@enron.com',\n",
       " 'X-From: Davis, Pete </O=ENRON/OU=NA/CN=RECIPIENTS/CN=PDAVIS1>',\n",
       " 'X-To: Davis, Pete </O=ENRON/OU=NA/CN=RECIPIENTS/CN=PDAVIS1>',\n",
       " 'X-cc: Meyers, Albert </O=ENRON/OU=NA/CN=RECIPIENTS/CN=BMEYERS>, Williams III, Bill </O=ENRON/OU=NA/CN=RECIPIENTS/CN=BWILLIA5>, Dean, Craig </O=ENRON/OU=NA/CN=RECIPIENTS/CN=CDEAN2>, Solberg, Geir </O=ENRON/OU=NA/CN=RECIPIENTS/CN=GSOLBER>, Anderson, John </O=ENRON/OU=NA/CN=RECIPIENTS/CN=JANDERS3>, Guzman, Mark </O=ENRON/OU=NA/CN=RECIPIENTS/CN=MGUZMAN3>, Mier, Michael </O=ENRON/OU=NA/CN=RECIPIENTS/CN=MMIER>, Davis, Pete </O=ENRON/OU=NA/CN=RECIPIENTS/CN=PDAVIS1>, Slinger, Ryan </O=ENRON/OU=NA/CN=RECIPIENTS/CN=RSLINGER>',\n",
       " 'X-bcc: ',\n",
       " 'X-Folder: \\\\ExMerge - Williams III, Bill\\\\Schedule Crawler',\n",
       " 'X-Origin: WILLIAMS-W3',\n",
       " 'X-FileName: ',\n",
       " '',\n",
       " '',\n",
       " '',\n",
       " 'Start Date: 12/13/01; HourAhead hour: 5;  No ancillary schedules awarded.  No variances detected. ',\n",
       " '',\n",
       " '    LOG MESSAGES:',\n",
       " '',\n",
       " 'PARSING FILE -->> O:\\\\Portland\\\\WestDesk\\\\California Scheduling\\\\ISO Final Schedules\\\\2001121305.txt']"
      ]
     },
     "execution_count": 196,
     "metadata": {},
     "output_type": "execute_result"
    }
   ],
   "source": [
    "test['message_clean'][510816]"
   ]
  },
  {
   "cell_type": "code",
   "execution_count": 205,
   "metadata": {
    "collapsed": true
   },
   "outputs": [
    {
     "data": {
      "text/plain": [
       "['Message-ID: <4155293.1075842841039.JavaMail.evans@thyme>',\n",
       " 'Date: Wed, 3 Jan 2001 10:00:00 -0800 (PST)',\n",
       " 'From: dwight.beach@enron.com',\n",
       " 'To: gerald.nemec@enron.com',\n",
       " 'Subject: GROUND LEASE (ELIZABETHTOWN).doc',\n",
       " 'Mime-Version: 1.0',\n",
       " 'Content-Type: text/plain; charset=us-ascii',\n",
       " 'Content-Transfer-Encoding: 7bit',\n",
       " 'X-From: Dwight Beach',\n",
       " 'X-To: Gerald Nemec',\n",
       " 'X-cc: ',\n",
       " 'X-bcc: ',\n",
       " 'X-Folder: \\\\Gerald_Nemec_Dec2000_June2001_2\\\\Notes Folders\\\\Notes inbox',\n",
       " 'X-Origin: NEMEC-G',\n",
       " 'X-FileName: gnemec.nsf',\n",
       " '',\n",
       " 'I think that these are current, but you might want to check with Steve Van ',\n",
       " 'Hooser to verify that there have been no changes.',\n",
       " '',\n",
       " '',\n",
       " '---------------------- Forwarded by Dwight Beach/HOU/ECT on 01/03/2001 05:59 ',\n",
       " 'PM ---------------------------',\n",
       " '',\n",
       " '',\n",
       " '\"Jay Sonnenberg\" <jsonnenberg@bracepatt.com> on 12/22/2000 05:15:48 PM',\n",
       " 'To: <gmasterson@bassberry.com>',\n",
       " 'cc: \"Clark Thompson\" <cthompson@bracepatt.com>, <dbeach@enron.com>, ',\n",
       " '<Glenn.Wright@enron.com>, <Heather.Kroll@enron.com>, <ozzie.pagan@enron.com>, ',\n",
       " '<steve.van.hooser@enron.com> ',\n",
       " 'Subject: GROUND LEASE (ELIZABETHTOWN).doc',\n",
       " '',\n",
       " '',\n",
       " 'George,',\n",
       " '',\n",
       " 'As requested, attached are clean and black-lined versions of the latest draft ',\n",
       " 'of Ground Lease.  The black-lined is marked to show changes made to the ',\n",
       " '10/27/00 draft.  Also, although this draft does not contain the change, note ',\n",
       " 'that in the definition for CPI, the blank will be filled in with \"Atlanta, ',\n",
       " 'Georgia\".',\n",
       " '',\n",
       " 'Jay',\n",
       " '',\n",
       " 'Jay Sonnenberg',\n",
       " 'Bracewell & Patterson, L.L.P.',\n",
       " '711 Louisiana St., Suite 2900',\n",
       " 'Houston, TX  77002-2781',\n",
       " '(713) 221-1417 (Ph)',\n",
       " '(713) 221-2158 (Fax)',\n",
       " '',\n",
       " '',\n",
       " '',\n",
       " ' - GROUNDLE.doc',\n",
       " ' - #1166399 v14 - GROUND LEASE (ELIZABETHTOWN).doc',\n",
       " '']"
      ]
     },
     "execution_count": 205,
     "metadata": {},
     "output_type": "execute_result"
    }
   ],
   "source": [
    "test['message_clean'][351661]"
   ]
  },
  {
   "cell_type": "code",
   "execution_count": null,
   "metadata": {},
   "outputs": [],
   "source": []
  },
  {
   "cell_type": "code",
   "execution_count": null,
   "metadata": {},
   "outputs": [],
   "source": []
  },
  {
   "cell_type": "code",
   "execution_count": null,
   "metadata": {},
   "outputs": [],
   "source": []
  },
  {
   "cell_type": "code",
   "execution_count": null,
   "metadata": {},
   "outputs": [],
   "source": []
  },
  {
   "cell_type": "markdown",
   "metadata": {},
   "source": [
    "## Explore data"
   ]
  },
  {
   "cell_type": "code",
   "execution_count": 20,
   "metadata": {},
   "outputs": [
    {
     "data": {
      "text/plain": [
       "dasovich-j      15\n",
       "kean-s          14\n",
       "shackleton-s    13\n",
       "kaminski-v      10\n",
       "symes-k          9\n",
       "                ..\n",
       "haedicke-m       1\n",
       "dickson-s        1\n",
       "griffith-j       1\n",
       "heard-m          1\n",
       "lokay-m          1\n",
       "Name: user, Length: 79, dtype: int64"
      ]
     },
     "execution_count": 20,
     "metadata": {},
     "output_type": "execute_result"
    }
   ],
   "source": [
    "# show number of emails per unique email account, number of unique email accounts is shown in summary line\n",
    "emails_per_acc = test['user'].value_counts()\n",
    "emails_per_acc"
   ]
  },
  {
   "cell_type": "code",
   "execution_count": null,
   "metadata": {},
   "outputs": [],
   "source": [
    "\"\"\"\n",
    "add a node for each sender and recipient\n",
    "for address in kaminski_addresses.keys():\n",
    "    kam_network.add_node(address, size=kaminski_addresses[address])\n",
    "for recipient in kaminski_recipients.keys():\n",
    "    kam_network.add_node(recipient, size=kaminski_recipients[recipient])\n",
    "    \n",
    "# add an edge for every email send between two employees\n",
    "for recipient in kaminski_sender.columns:\n",
    "    kam_network.add_edge(sender, recipient, weight = kaminski_sender[sender][recipient])\n",
    "    \n",
    "\"\"\""
   ]
  }
 ],
 "metadata": {
  "kernelspec": {
   "display_name": "Python 3",
   "language": "python",
   "name": "python3"
  },
  "language_info": {
   "codemirror_mode": {
    "name": "ipython",
    "version": 3
   },
   "file_extension": ".py",
   "mimetype": "text/x-python",
   "name": "python",
   "nbconvert_exporter": "python",
   "pygments_lexer": "ipython3",
   "version": "3.7.3"
  }
 },
 "nbformat": 4,
 "nbformat_minor": 4
}
